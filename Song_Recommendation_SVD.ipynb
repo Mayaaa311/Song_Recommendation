{
 "cells": [
  {
   "cell_type": "markdown",
   "id": "7ea25b38-600b-4fad-88cd-3f66eae0ce70",
   "metadata": {},
   "source": [
    "# Song Recommendation Collaborative Filtering System Trained on Million Song Dataset\n",
    "\n",
    "Full Name: Yining Yuan\n",
    "Student ID: 904043914\n",
    "\n",
    "In this jupyter notebook, I will be training 2 SVD model for collaborative filtering on Million Song Dataset, and compared result for both model's prediction on top 1 and top 5 hit rate. My report is at the end of the file."
   ]
  },
  {
   "cell_type": "code",
   "execution_count": 1,
   "id": "4fa46c7d-5c4b-487e-bba6-f78ab7dc4c9b",
   "metadata": {},
   "outputs": [],
   "source": [
    "import pandas as pd\n",
    "# from sklearn.decomposition import TruncatedSVD\n",
    "import matplotlib.pyplot as plt\n",
    "from surprise import SVD\n",
    "import seaborn as sns\n",
    "import numpy as np\n",
    "import time"
   ]
  },
  {
   "cell_type": "code",
   "execution_count": 2,
   "id": "3422fddc-f58c-4946-95ab-10e6c6f44529",
   "metadata": {},
   "outputs": [],
   "source": [
    "from surprise import SVD\n",
    "from surprise import Dataset, Reader\n",
    "from surprise import accuracy\n",
    "from surprise.model_selection import train_test_split\n",
    "from surprise.model_selection import GridSearchCV\n",
    "from surprise.model_selection import cross_validate"
   ]
  },
  {
   "cell_type": "code",
   "execution_count": 3,
   "id": "85a4e56d-3da1-4ad9-a990-d90f77d77b75",
   "metadata": {},
   "outputs": [
    {
     "name": "stdout",
     "output_type": "stream",
     "text": [
      "/mnt/c/Users/17343/Desktop/Song_recommendation/env/bin/python3\n"
     ]
    }
   ],
   "source": [
    "import sys\n",
    "print(sys.executable)\n"
   ]
  },
  {
   "cell_type": "markdown",
   "id": "cfa8f698-cd65-4e15-a207-7924e02a3e86",
   "metadata": {},
   "source": [
    "## Extract Data\n",
    "in this section, I extract raw data from datasets downloaded from Million Song Dataset website(http://millionsongdataset.com/). I downloaded: \n",
    "1. train_triplets.txt, a dataset containing user preference information, including user_id, song_id, and play_count\n",
    "2. track_metadata.db, SQLite database containing most metadata about each track\n",
    "\n",
    "I will be using the play_count attribute in train_triplet dataset as a implicit rating, and the metadata is only used for me to better learn about the data set as a whole."
   ]
  },
  {
   "cell_type": "code",
   "execution_count": 4,
   "id": "7a7e1442-d0df-4c8a-b872-909186c77929",
   "metadata": {},
   "outputs": [
    {
     "name": "stdout",
     "output_type": "stream",
     "text": [
      "Number of Users: 209542\n",
      "Number of Items (Songs): 307782\n",
      "Number of Ratings (Play Counts): 10000000\n"
     ]
    }
   ],
   "source": [
    "# Load the dataset\n",
    "data_df = pd.read_csv('train_triplets.txt', sep='\\t', names=['user_id', 'song_id', 'play_count']).head(10000000)\n",
    "\n",
    "# Number of unique users\n",
    "num_users = data_df['user_id'].nunique()\n",
    "print(f\"Number of Users: {num_users}\")\n",
    "\n",
    "# Number of unique songs (items)\n",
    "num_items = data_df['song_id'].nunique()\n",
    "print(f\"Number of Items (Songs): {num_items}\")\n",
    "\n",
    "# Number of ratings (play counts)\n",
    "num_ratings = len(data_df)\n",
    "print(f\"Number of Ratings (Play Counts): {num_ratings}\")"
   ]
  },
  {
   "cell_type": "code",
   "execution_count": 5,
   "id": "5a069569-6251-4e38-8664-e61400272e5a",
   "metadata": {},
   "outputs": [
    {
     "data": {
      "text/html": [
       "<div>\n",
       "<style scoped>\n",
       "    .dataframe tbody tr th:only-of-type {\n",
       "        vertical-align: middle;\n",
       "    }\n",
       "\n",
       "    .dataframe tbody tr th {\n",
       "        vertical-align: top;\n",
       "    }\n",
       "\n",
       "    .dataframe thead th {\n",
       "        text-align: right;\n",
       "    }\n",
       "</style>\n",
       "<table border=\"1\" class=\"dataframe\">\n",
       "  <thead>\n",
       "    <tr style=\"text-align: right;\">\n",
       "      <th></th>\n",
       "      <th>user_id</th>\n",
       "      <th>song_id</th>\n",
       "      <th>play_count</th>\n",
       "    </tr>\n",
       "  </thead>\n",
       "  <tbody>\n",
       "    <tr>\n",
       "      <th>0</th>\n",
       "      <td>b80344d063b5ccb3212f76538f3d9e43d87dca9e</td>\n",
       "      <td>SOAKIMP12A8C130995</td>\n",
       "      <td>1</td>\n",
       "    </tr>\n",
       "    <tr>\n",
       "      <th>1</th>\n",
       "      <td>b80344d063b5ccb3212f76538f3d9e43d87dca9e</td>\n",
       "      <td>SOAPDEY12A81C210A9</td>\n",
       "      <td>1</td>\n",
       "    </tr>\n",
       "    <tr>\n",
       "      <th>2</th>\n",
       "      <td>b80344d063b5ccb3212f76538f3d9e43d87dca9e</td>\n",
       "      <td>SOBBMDR12A8C13253B</td>\n",
       "      <td>2</td>\n",
       "    </tr>\n",
       "    <tr>\n",
       "      <th>3</th>\n",
       "      <td>b80344d063b5ccb3212f76538f3d9e43d87dca9e</td>\n",
       "      <td>SOBFNSP12AF72A0E22</td>\n",
       "      <td>1</td>\n",
       "    </tr>\n",
       "    <tr>\n",
       "      <th>4</th>\n",
       "      <td>b80344d063b5ccb3212f76538f3d9e43d87dca9e</td>\n",
       "      <td>SOBFOVM12A58A7D494</td>\n",
       "      <td>1</td>\n",
       "    </tr>\n",
       "  </tbody>\n",
       "</table>\n",
       "</div>"
      ],
      "text/plain": [
       "                                    user_id             song_id  play_count\n",
       "0  b80344d063b5ccb3212f76538f3d9e43d87dca9e  SOAKIMP12A8C130995           1\n",
       "1  b80344d063b5ccb3212f76538f3d9e43d87dca9e  SOAPDEY12A81C210A9           1\n",
       "2  b80344d063b5ccb3212f76538f3d9e43d87dca9e  SOBBMDR12A8C13253B           2\n",
       "3  b80344d063b5ccb3212f76538f3d9e43d87dca9e  SOBFNSP12AF72A0E22           1\n",
       "4  b80344d063b5ccb3212f76538f3d9e43d87dca9e  SOBFOVM12A58A7D494           1"
      ]
     },
     "execution_count": 5,
     "metadata": {},
     "output_type": "execute_result"
    }
   ],
   "source": [
    "data_df.head()"
   ]
  },
  {
   "cell_type": "code",
   "execution_count": 6,
   "id": "26241288-1218-4c55-be15-a89bf8374fb7",
   "metadata": {},
   "outputs": [],
   "source": [
    "import sqlite3\n",
    "import pandas as pd\n",
    "\n",
    "\n",
    "# Connect to the track_metadata.db SQLite database\n",
    "conn = sqlite3.connect('track_metadata.db')\n",
    "\n",
    "# Extract the song IDs from the data_df to use in the SQL query\n",
    "song_ids = tuple(data_df['song_id'].unique())\n",
    "\n",
    "# SQL query to fetch song details for the given song IDs\n",
    "query = f\"\"\"\n",
    "SELECT song_id, title, artist_name, release, year\n",
    "FROM songs\n",
    "WHERE song_id IN {song_ids};\n",
    "\"\"\"\n",
    "\n",
    "# Execute the query and load the results into a pandas DataFrame\n",
    "song_metadata_df = pd.read_sql_query(query, conn)\n",
    "\n",
    "# Close the database connection\n",
    "conn.close()"
   ]
  },
  {
   "cell_type": "code",
   "execution_count": 7,
   "id": "9f70c7bf-0497-4fc3-9fec-a4cb207480da",
   "metadata": {},
   "outputs": [
    {
     "data": {
      "text/html": [
       "<div>\n",
       "<style scoped>\n",
       "    .dataframe tbody tr th:only-of-type {\n",
       "        vertical-align: middle;\n",
       "    }\n",
       "\n",
       "    .dataframe tbody tr th {\n",
       "        vertical-align: top;\n",
       "    }\n",
       "\n",
       "    .dataframe thead th {\n",
       "        text-align: right;\n",
       "    }\n",
       "</style>\n",
       "<table border=\"1\" class=\"dataframe\">\n",
       "  <thead>\n",
       "    <tr style=\"text-align: right;\">\n",
       "      <th></th>\n",
       "      <th>song_id</th>\n",
       "      <th>title</th>\n",
       "      <th>artist_name</th>\n",
       "      <th>release</th>\n",
       "      <th>year</th>\n",
       "    </tr>\n",
       "  </thead>\n",
       "  <tbody>\n",
       "    <tr>\n",
       "      <th>0</th>\n",
       "      <td>SOBNYVR12A8C13558C</td>\n",
       "      <td>Si Vos Querés</td>\n",
       "      <td>Yerba Brava</td>\n",
       "      <td>De Culo</td>\n",
       "      <td>2003</td>\n",
       "    </tr>\n",
       "    <tr>\n",
       "      <th>1</th>\n",
       "      <td>SOYGNWH12AB018191E</td>\n",
       "      <td>L'antarctique</td>\n",
       "      <td>3 Gars Su'l Sofa</td>\n",
       "      <td>Des cobras des tarentules</td>\n",
       "      <td>2007</td>\n",
       "    </tr>\n",
       "    <tr>\n",
       "      <th>2</th>\n",
       "      <td>SOGPCJI12A8C13CCA0</td>\n",
       "      <td>N Gana</td>\n",
       "      <td>Waldemar Bastos</td>\n",
       "      <td>Afropea 3 - Telling Stories To The Sea</td>\n",
       "      <td>0</td>\n",
       "    </tr>\n",
       "    <tr>\n",
       "      <th>3</th>\n",
       "      <td>SOSDCFG12AB0184647</td>\n",
       "      <td>006</td>\n",
       "      <td>Lena Philipsson</td>\n",
       "      <td>Lena 20 År</td>\n",
       "      <td>1998</td>\n",
       "    </tr>\n",
       "    <tr>\n",
       "      <th>4</th>\n",
       "      <td>SOKOVRQ12A8C142811</td>\n",
       "      <td>Ethos of Coercion</td>\n",
       "      <td>Dying Fetus</td>\n",
       "      <td>Descend Into Depravity</td>\n",
       "      <td>2009</td>\n",
       "    </tr>\n",
       "  </tbody>\n",
       "</table>\n",
       "</div>"
      ],
      "text/plain": [
       "              song_id              title       artist_name  \\\n",
       "0  SOBNYVR12A8C13558C      Si Vos Querés       Yerba Brava   \n",
       "1  SOYGNWH12AB018191E      L'antarctique  3 Gars Su'l Sofa   \n",
       "2  SOGPCJI12A8C13CCA0             N Gana   Waldemar Bastos   \n",
       "3  SOSDCFG12AB0184647                006   Lena Philipsson   \n",
       "4  SOKOVRQ12A8C142811  Ethos of Coercion       Dying Fetus   \n",
       "\n",
       "                                  release  year  \n",
       "0                                 De Culo  2003  \n",
       "1               Des cobras des tarentules  2007  \n",
       "2  Afropea 3 - Telling Stories To The Sea     0  \n",
       "3                              Lena 20 År  1998  \n",
       "4                  Descend Into Depravity  2009  "
      ]
     },
     "execution_count": 7,
     "metadata": {},
     "output_type": "execute_result"
    }
   ],
   "source": [
    "song_metadata_df.head()"
   ]
  },
  {
   "cell_type": "code",
   "execution_count": 8,
   "id": "ea2bb08d-53ed-4b48-bc72-e45cd1a6fee5",
   "metadata": {},
   "outputs": [],
   "source": [
    "merged_df = pd.merge(data_df, song_metadata_df, on='song_id', how='left')"
   ]
  },
  {
   "cell_type": "code",
   "execution_count": 9,
   "id": "fbb9519c-8865-4765-ae5c-8bc76fb3f170",
   "metadata": {},
   "outputs": [
    {
     "data": {
      "text/html": [
       "<div>\n",
       "<style scoped>\n",
       "    .dataframe tbody tr th:only-of-type {\n",
       "        vertical-align: middle;\n",
       "    }\n",
       "\n",
       "    .dataframe tbody tr th {\n",
       "        vertical-align: top;\n",
       "    }\n",
       "\n",
       "    .dataframe thead th {\n",
       "        text-align: right;\n",
       "    }\n",
       "</style>\n",
       "<table border=\"1\" class=\"dataframe\">\n",
       "  <thead>\n",
       "    <tr style=\"text-align: right;\">\n",
       "      <th></th>\n",
       "      <th>user_id</th>\n",
       "      <th>song_id</th>\n",
       "      <th>play_count</th>\n",
       "      <th>title</th>\n",
       "      <th>artist_name</th>\n",
       "      <th>release</th>\n",
       "      <th>year</th>\n",
       "    </tr>\n",
       "  </thead>\n",
       "  <tbody>\n",
       "    <tr>\n",
       "      <th>0</th>\n",
       "      <td>b80344d063b5ccb3212f76538f3d9e43d87dca9e</td>\n",
       "      <td>SOAKIMP12A8C130995</td>\n",
       "      <td>1</td>\n",
       "      <td>The Cove</td>\n",
       "      <td>Jack Johnson</td>\n",
       "      <td>Thicker Than Water</td>\n",
       "      <td>0</td>\n",
       "    </tr>\n",
       "    <tr>\n",
       "      <th>1</th>\n",
       "      <td>b80344d063b5ccb3212f76538f3d9e43d87dca9e</td>\n",
       "      <td>SOAPDEY12A81C210A9</td>\n",
       "      <td>1</td>\n",
       "      <td>Nothing from Nothing</td>\n",
       "      <td>Billy Preston</td>\n",
       "      <td>To Die For</td>\n",
       "      <td>1974</td>\n",
       "    </tr>\n",
       "    <tr>\n",
       "      <th>2</th>\n",
       "      <td>b80344d063b5ccb3212f76538f3d9e43d87dca9e</td>\n",
       "      <td>SOBBMDR12A8C13253B</td>\n",
       "      <td>2</td>\n",
       "      <td>Entre Dos Aguas</td>\n",
       "      <td>Paco De Lucia</td>\n",
       "      <td>Flamenco Para Niños</td>\n",
       "      <td>1976</td>\n",
       "    </tr>\n",
       "    <tr>\n",
       "      <th>3</th>\n",
       "      <td>b80344d063b5ccb3212f76538f3d9e43d87dca9e</td>\n",
       "      <td>SOBFNSP12AF72A0E22</td>\n",
       "      <td>1</td>\n",
       "      <td>Under Cold Blue Stars</td>\n",
       "      <td>Josh Rouse</td>\n",
       "      <td>Under Cold Blue Stars</td>\n",
       "      <td>2002</td>\n",
       "    </tr>\n",
       "    <tr>\n",
       "      <th>4</th>\n",
       "      <td>b80344d063b5ccb3212f76538f3d9e43d87dca9e</td>\n",
       "      <td>SOBFOVM12A58A7D494</td>\n",
       "      <td>1</td>\n",
       "      <td>Riot Radio (Soundtrack Version)</td>\n",
       "      <td>The Dead 60s</td>\n",
       "      <td>Nick &amp; Norah's Infinite Playlist - Original Mo...</td>\n",
       "      <td>0</td>\n",
       "    </tr>\n",
       "  </tbody>\n",
       "</table>\n",
       "</div>"
      ],
      "text/plain": [
       "                                    user_id             song_id  play_count  \\\n",
       "0  b80344d063b5ccb3212f76538f3d9e43d87dca9e  SOAKIMP12A8C130995           1   \n",
       "1  b80344d063b5ccb3212f76538f3d9e43d87dca9e  SOAPDEY12A81C210A9           1   \n",
       "2  b80344d063b5ccb3212f76538f3d9e43d87dca9e  SOBBMDR12A8C13253B           2   \n",
       "3  b80344d063b5ccb3212f76538f3d9e43d87dca9e  SOBFNSP12AF72A0E22           1   \n",
       "4  b80344d063b5ccb3212f76538f3d9e43d87dca9e  SOBFOVM12A58A7D494           1   \n",
       "\n",
       "                             title    artist_name  \\\n",
       "0                         The Cove   Jack Johnson   \n",
       "1             Nothing from Nothing  Billy Preston   \n",
       "2                  Entre Dos Aguas  Paco De Lucia   \n",
       "3            Under Cold Blue Stars     Josh Rouse   \n",
       "4  Riot Radio (Soundtrack Version)   The Dead 60s   \n",
       "\n",
       "                                             release  year  \n",
       "0                                 Thicker Than Water     0  \n",
       "1                                         To Die For  1974  \n",
       "2                                Flamenco Para Niños  1976  \n",
       "3                              Under Cold Blue Stars  2002  \n",
       "4  Nick & Norah's Infinite Playlist - Original Mo...     0  "
      ]
     },
     "execution_count": 9,
     "metadata": {},
     "output_type": "execute_result"
    }
   ],
   "source": [
    "merged_df.head()"
   ]
  },
  {
   "cell_type": "markdown",
   "id": "27ed0eeb-3043-47a3-b8d5-62893c986d11",
   "metadata": {},
   "source": [
    "## Data Preprocessing"
   ]
  },
  {
   "cell_type": "markdown",
   "id": "d75e604c-bf7c-4b65-87f2-7ffcccc5d091",
   "metadata": {},
   "source": [
    "In this part, I will do analysis on how many songs does users normally listen to, and how many listening count does a song usually gets. By filtering out the small values, I could improve the train dataset quality."
   ]
  },
  {
   "cell_type": "code",
   "execution_count": 10,
   "id": "0cd8844c-1a3b-49e0-abcb-beeb7cf6c9b6",
   "metadata": {},
   "outputs": [],
   "source": [
    "data_df = merged_df.copy()"
   ]
  },
  {
   "cell_type": "code",
   "execution_count": null,
   "id": "a555e5af-28a3-49b7-9fc0-690e70a9e5cf",
   "metadata": {},
   "outputs": [],
   "source": []
  },
  {
   "cell_type": "markdown",
   "id": "de0e48d3-f994-4400-83c1-f26f10daaeda",
   "metadata": {},
   "source": [
    "#### Analyzing dataset: look at how many songs does a user listen to"
   ]
  },
  {
   "cell_type": "code",
   "execution_count": 11,
   "id": "285e7a49-388b-4119-ad00-d3aedbe17020",
   "metadata": {},
   "outputs": [
    {
     "data": {
      "image/png": "[encoded data removed]",
      "text/plain": [
       "<Figure size 800x600 with 1 Axes>"
      ]
     },
     "metadata": {},
     "output_type": "display_data"
    }
   ],
   "source": [
    "# Count how many unique songs each user has listened to\n",
    "user_song_counts = data_df.groupby('user_id')['song_id'].nunique()\n",
    "\n",
    "# Plot a bar chart of the number of songs listened to by each user\n",
    "ax = user_song_counts.value_counts().sort_index().plot(kind='bar', figsize=(8, 6), edgecolor='black')\n",
    "\n",
    "# Set x-axis labels to display only every nth label\n",
    "step_size = 20  # Change this value to control the frequency of x-tick labels\n",
    "ax.set_xticks(range(0, len(user_song_counts.value_counts()), step_size))\n",
    "ax.set_xticklabels(user_song_counts.value_counts().sort_index().index[::step_size])\n",
    "\n",
    "# Add labels and title\n",
    "plt.title('Distribution of Number of Songs Users Listened To')\n",
    "plt.xlabel('Number of Songs')\n",
    "plt.ylabel('Number of Users')\n",
    "\n",
    "# Show the plot\n",
    "plt.show()"
   ]
  },
  {
   "cell_type": "markdown",
   "id": "c7993ca9-fd36-498e-ab0a-d370bac2b57d",
   "metadata": {},
   "source": [
    "from the plot, we can see that most people listen to 1-150 songs. I will filter out users who listens to < 20 songs since their data would potentially be misleading to the model"
   ]
  },
  {
   "cell_type": "code",
   "execution_count": 12,
   "id": "24de3599-5010-4ece-b1f2-9bfc20ab5152",
   "metadata": {},
   "outputs": [
    {
     "data": {
      "text/plain": [
       "10266784"
      ]
     },
     "execution_count": 12,
     "metadata": {},
     "output_type": "execute_result"
    }
   ],
   "source": [
    "len(data_df)"
   ]
  },
  {
   "cell_type": "code",
   "execution_count": 13,
   "id": "2fa72a67-3115-42d9-8400-c2d67df70ecd",
   "metadata": {},
   "outputs": [],
   "source": [
    "# Step 1: Count how many unique songs each user has listened to\n",
    "user_song_counts = data_df.groupby('user_id')['song_id'].nunique()\n",
    "\n",
    "# Step 2: Filter out users who listened to fewer than 10 songs\n",
    "users_with_20_or_more_songs = user_song_counts[user_song_counts >= 20].index\n",
    "\n",
    "# Step 3: Filter the original data_df to keep rows where the user_id is in users_with_10_or_more_songs\n",
    "filtered_data_df = data_df[data_df['user_id'].isin(users_with_20_or_more_songs)]\n"
   ]
  },
  {
   "cell_type": "code",
   "execution_count": 14,
   "id": "46a7a4e0-cd08-48b6-a5ab-826542cd0f77",
   "metadata": {},
   "outputs": [
    {
     "data": {
      "text/plain": [
       "9215728"
      ]
     },
     "execution_count": 14,
     "metadata": {},
     "output_type": "execute_result"
    }
   ],
   "source": [
    "len(filtered_data_df)"
   ]
  },
  {
   "cell_type": "markdown",
   "id": "3fe3524a-5701-45f7-b940-713ee1091fd8",
   "metadata": {},
   "source": [
    "#### Analyzing dataset: look at how many play count each song has"
   ]
  },
  {
   "cell_type": "code",
   "execution_count": 15,
   "id": "c43de76c-0512-4ed8-8df6-6c4d70522cdb",
   "metadata": {},
   "outputs": [
    {
     "name": "stdout",
     "output_type": "stream",
     "text": [
      "Mean Play Count: 2.83\n",
      "Median Play Count: 1.0\n"
     ]
    }
   ],
   "source": [
    "# Mean and median play counts\n",
    "mean_play_count = filtered_data_df['play_count'].mean()\n",
    "median_play_count = filtered_data_df['play_count'].median()\n",
    "print(f\"Mean Play Count: {mean_play_count:.2f}\")\n",
    "print(f\"Median Play Count: {median_play_count}\")"
   ]
  },
  {
   "cell_type": "code",
   "execution_count": 16,
   "id": "b5e291bf-a29a-4634-80ad-da15632c990c",
   "metadata": {},
   "outputs": [
    {
     "data": {
      "image/png": "[encoded data removed]",
      "text/plain": [
       "<Figure size 640x480 with 1 Axes>"
      ]
     },
     "metadata": {},
     "output_type": "display_data"
    }
   ],
   "source": [
    "# Sample data: a list of numbers\n",
    "data = filtered_data_df['play_count']\n",
    "\n",
    "# Create a histogram with a specific range\n",
    "plt.hist(data, bins=10, range=(1, 100), edgecolor='black')\n",
    "# Add title and labels\n",
    "plt.title(\"Distribution of play_count\")\n",
    "plt.xlabel(\"play_count\")\n",
    "plt.ylabel(\"# Songs\")\n",
    "\n",
    "# Show the plot\n",
    "plt.show()"
   ]
  },
  {
   "cell_type": "markdown",
   "id": "97589348-66c2-45bf-b160-7d6d16c0b652",
   "metadata": {},
   "source": [
    "we should filter out songs with too litte play_count, becuase it may not have enough use data to be accurately representated in the model. In thsi case, I choose to filter out songs with < 100 play count"
   ]
  },
  {
   "cell_type": "code",
   "execution_count": 17,
   "id": "5da8f699-eee8-4e8b-bb7b-7e09ffce330b",
   "metadata": {},
   "outputs": [
    {
     "data": {
      "text/plain": [
       "9215728"
      ]
     },
     "execution_count": 17,
     "metadata": {},
     "output_type": "execute_result"
    }
   ],
   "source": [
    "len(filtered_data_df)"
   ]
  },
  {
   "cell_type": "code",
   "execution_count": 18,
   "id": "457f7d79-d00e-411b-92bd-35f2458036ab",
   "metadata": {},
   "outputs": [],
   "source": [
    "# Count how many times each song has been listened to\n",
    "song_listening_counts = filtered_data_df.groupby('song_id')['user_id'].nunique()\n",
    "\n",
    "# Filter out songs with fewer than a minimum threshold of interactions (>= 100)\n",
    "songs_with_enough_interactions = song_listening_counts[song_listening_counts >= 100].index\n",
    "\n",
    "# Filter the original data_df to keep only rows where the song has enough interactions\n",
    "filtered_data_df2 = filtered_data_df[filtered_data_df['song_id'].isin(songs_with_enough_interactions)]\n"
   ]
  },
  {
   "cell_type": "code",
   "execution_count": 19,
   "id": "1bda9213-9438-437f-adbe-3299b813697f",
   "metadata": {},
   "outputs": [
    {
     "data": {
      "text/plain": [
       "6047430"
      ]
     },
     "execution_count": 19,
     "metadata": {},
     "output_type": "execute_result"
    }
   ],
   "source": [
    "len(filtered_data_df2)"
   ]
  },
  {
   "cell_type": "markdown",
   "id": "0d0c8683-8548-4757-aa93-1de3c0b8f5e2",
   "metadata": {},
   "source": [
    "## Rate Scale Conversion\n",
    "\n",
    "since the dataset only contains play count as implicit rating, I looked at data distribution, and tried using a custom binning technique to convert listening counts to rating."
   ]
  },
  {
   "cell_type": "code",
   "execution_count": 20,
   "id": "77abfc26-5ca4-4bcd-8070-38fd05cd6e9b",
   "metadata": {},
   "outputs": [
    {
     "name": "stdout",
     "output_type": "stream",
     "text": [
      "Maximum Listening Count: 2213\n",
      "Minimum Listening Count: 1\n",
      "Mean Listening Count: 2.93\n",
      "25th Percentile: 1.0\n",
      "50th Percentile: 1.0\n",
      "75th Percentile: 3.0\n",
      "90th Percentile: 6.0\n"
     ]
    }
   ],
   "source": [
    "# Checking the maximum rating\n",
    "max_rating = filtered_data_df2['play_count'].max()\n",
    "print(f\"Maximum Listening Count: {max_rating}\")\n",
    "\n",
    "# Checking the minimum rating\n",
    "min_rating = filtered_data_df2['play_count'].min()\n",
    "print(f\"Minimum Listening Count: {min_rating}\")\n",
    "\n",
    "# Checking the mean rating\n",
    "mean_rating = filtered_data_df2['play_count'].mean()\n",
    "print(f\"Mean Listening Count: {mean_rating:.2f}\")\n",
    "\n",
    "# Checking different percentiles (e.g., 25th, 50th, 75th, 90th)\n",
    "percentiles = [0.25, 0.50, 0.75, 0.90]\n",
    "percentile_values = filtered_data_df2['play_count'].quantile(percentiles)\n",
    "\n",
    "# Print the percentile values\n",
    "for p, value in zip(percentiles, percentile_values):\n",
    "    print(f\"{int(p*100)}th Percentile: {value}\")\n"
   ]
  },
  {
   "cell_type": "markdown",
   "id": "87cc0291-e8d5-4eda-81e0-59cbae369015",
   "metadata": {},
   "source": [
    "#### custom binning"
   ]
  },
  {
   "cell_type": "code",
   "execution_count": 21,
   "id": "5d85152e-42c1-43c8-902a-12095d897899",
   "metadata": {},
   "outputs": [],
   "source": [
    "binning_data2 = filtered_data_df2.copy()\n",
    "bins = [0, 1, 2, 3, 4, 5, 6, 7, 8, 9, 2214]"
   ]
  },
  {
   "cell_type": "code",
   "execution_count": 22,
   "id": "40c5b0b1-27c2-4cf4-b8cc-4df52972d0f6",
   "metadata": {},
   "outputs": [
    {
     "name": "stderr",
     "output_type": "stream",
     "text": [
      "/tmp/ipykernel_41343/959787700.py:3: FutureWarning: The default of observed=False is deprecated and will be changed to True in a future version of pandas. Pass observed=False to retain current behavior or observed=True to adopt the future default and silence this warning.\n",
      "  listen_counts_custom = pd.DataFrame(binning_data2.groupby('play_count').size(), columns=['count']).reset_index(drop=False)\n"
     ]
    }
   ],
   "source": [
    "binning_data2['play_count'] = pd.cut(binning_data2['play_count'], bins=bins, labels=[1, 2, 3, 4, 5, 6, 7, 8, 9, 10])\n",
    "\n",
    "listen_counts_custom = pd.DataFrame(binning_data2.groupby('play_count').size(), columns=['count']).reset_index(drop=False)"
   ]
  },
  {
   "cell_type": "code",
   "execution_count": 23,
   "id": "f57ee120-9846-4191-9b29-92fc1494d2db",
   "metadata": {},
   "outputs": [
    {
     "name": "stderr",
     "output_type": "stream",
     "text": [
      "/tmp/ipykernel_41343/1763205556.py:2: FutureWarning: \n",
      "\n",
      "Passing `palette` without assigning `hue` is deprecated and will be removed in v0.14.0. Assign the `x` variable to `hue` and set `legend=False` for the same effect.\n",
      "\n",
      "  sns.barplot(x='play_count', y='count', palette='Set3', data=listen_counts_custom)\n"
     ]
    },
    {
     "data": {
      "image/png": "[encoded data removed]",
      "text/plain": [
       "<Figure size 1600x800 with 1 Axes>"
      ]
     },
     "metadata": {},
     "output_type": "display_data"
    }
   ],
   "source": [
    "plt.figure(figsize=(16, 8))\n",
    "sns.barplot(x='play_count', y='count', palette='Set3', data=listen_counts_custom)\n",
    "plt.gca().spines['top'].set_visible(False)\n",
    "plt.gca().spines['right'].set_visible(False)\n",
    "plt.show();"
   ]
  },
  {
   "cell_type": "code",
   "execution_count": 24,
   "id": "077ba010-4154-44a1-bde4-5eaead68e49f",
   "metadata": {},
   "outputs": [
    {
     "data": {
      "text/html": [
       "<div>\n",
       "<style scoped>\n",
       "    .dataframe tbody tr th:only-of-type {\n",
       "        vertical-align: middle;\n",
       "    }\n",
       "\n",
       "    .dataframe tbody tr th {\n",
       "        vertical-align: top;\n",
       "    }\n",
       "\n",
       "    .dataframe thead th {\n",
       "        text-align: right;\n",
       "    }\n",
       "</style>\n",
       "<table border=\"1\" class=\"dataframe\">\n",
       "  <thead>\n",
       "    <tr style=\"text-align: right;\">\n",
       "      <th></th>\n",
       "      <th>user_id</th>\n",
       "      <th>song_id</th>\n",
       "      <th>play_count</th>\n",
       "      <th>title</th>\n",
       "      <th>artist_name</th>\n",
       "      <th>release</th>\n",
       "      <th>year</th>\n",
       "    </tr>\n",
       "  </thead>\n",
       "  <tbody>\n",
       "    <tr>\n",
       "      <th>0</th>\n",
       "      <td>b80344d063b5ccb3212f76538f3d9e43d87dca9e</td>\n",
       "      <td>SOAKIMP12A8C130995</td>\n",
       "      <td>1</td>\n",
       "      <td>The Cove</td>\n",
       "      <td>Jack Johnson</td>\n",
       "      <td>Thicker Than Water</td>\n",
       "      <td>0</td>\n",
       "    </tr>\n",
       "    <tr>\n",
       "      <th>1</th>\n",
       "      <td>b80344d063b5ccb3212f76538f3d9e43d87dca9e</td>\n",
       "      <td>SOAPDEY12A81C210A9</td>\n",
       "      <td>1</td>\n",
       "      <td>Nothing from Nothing</td>\n",
       "      <td>Billy Preston</td>\n",
       "      <td>To Die For</td>\n",
       "      <td>1974</td>\n",
       "    </tr>\n",
       "    <tr>\n",
       "      <th>2</th>\n",
       "      <td>b80344d063b5ccb3212f76538f3d9e43d87dca9e</td>\n",
       "      <td>SOBBMDR12A8C13253B</td>\n",
       "      <td>2</td>\n",
       "      <td>Entre Dos Aguas</td>\n",
       "      <td>Paco De Lucia</td>\n",
       "      <td>Flamenco Para Niños</td>\n",
       "      <td>1976</td>\n",
       "    </tr>\n",
       "    <tr>\n",
       "      <th>6</th>\n",
       "      <td>b80344d063b5ccb3212f76538f3d9e43d87dca9e</td>\n",
       "      <td>SOBSUJE12A6D4F8CF5</td>\n",
       "      <td>2</td>\n",
       "      <td>12 segundos de oscuridad</td>\n",
       "      <td>Jorge Drexler</td>\n",
       "      <td>10 + Downloaded</td>\n",
       "      <td>2006</td>\n",
       "    </tr>\n",
       "    <tr>\n",
       "      <th>8</th>\n",
       "      <td>b80344d063b5ccb3212f76538f3d9e43d87dca9e</td>\n",
       "      <td>SOBXALG12A8C13C108</td>\n",
       "      <td>1</td>\n",
       "      <td>Food Chain (Album Version)</td>\n",
       "      <td>Eric Hutchinson</td>\n",
       "      <td>Sounds Like This</td>\n",
       "      <td>2008</td>\n",
       "    </tr>\n",
       "    <tr>\n",
       "      <th>...</th>\n",
       "      <td>...</td>\n",
       "      <td>...</td>\n",
       "      <td>...</td>\n",
       "      <td>...</td>\n",
       "      <td>...</td>\n",
       "      <td>...</td>\n",
       "      <td>...</td>\n",
       "    </tr>\n",
       "    <tr>\n",
       "      <th>10266739</th>\n",
       "      <td>fd7fba879e036460b1c7cf18ae84ffb70d2166f4</td>\n",
       "      <td>SOSZJFV12AB01878CB</td>\n",
       "      <td>9</td>\n",
       "      <td>Teach Me How To Dougie</td>\n",
       "      <td>California Swag District</td>\n",
       "      <td>Teach Me How To Dougie</td>\n",
       "      <td>0</td>\n",
       "    </tr>\n",
       "    <tr>\n",
       "      <th>10266740</th>\n",
       "      <td>fd7fba879e036460b1c7cf18ae84ffb70d2166f4</td>\n",
       "      <td>SOUPCXQ12A81C222D9</td>\n",
       "      <td>3</td>\n",
       "      <td>Cookie Jar [feat. The-Dream] (Explicit Album V...</td>\n",
       "      <td>Gym Class Heroes</td>\n",
       "      <td>Cookie Jar [Feat. The-Dream]</td>\n",
       "      <td>0</td>\n",
       "    </tr>\n",
       "    <tr>\n",
       "      <th>10266741</th>\n",
       "      <td>fd7fba879e036460b1c7cf18ae84ffb70d2166f4</td>\n",
       "      <td>SOUVTSM12AC468F6A7</td>\n",
       "      <td>2</td>\n",
       "      <td>Drop The World</td>\n",
       "      <td>Lil Wayne / Eminem</td>\n",
       "      <td>Drop The World</td>\n",
       "      <td>0</td>\n",
       "    </tr>\n",
       "    <tr>\n",
       "      <th>10266743</th>\n",
       "      <td>fd7fba879e036460b1c7cf18ae84ffb70d2166f4</td>\n",
       "      <td>SOWCKVR12A8C142411</td>\n",
       "      <td>1</td>\n",
       "      <td>Use Somebody</td>\n",
       "      <td>Kings Of Leon</td>\n",
       "      <td>Use Somebody</td>\n",
       "      <td>2008</td>\n",
       "    </tr>\n",
       "    <tr>\n",
       "      <th>10266744</th>\n",
       "      <td>fd7fba879e036460b1c7cf18ae84ffb70d2166f4</td>\n",
       "      <td>SOWCKVR12A8C142411</td>\n",
       "      <td>1</td>\n",
       "      <td>Use Somebody</td>\n",
       "      <td>Kings Of Leon</td>\n",
       "      <td>Hitzone 49</td>\n",
       "      <td>2008</td>\n",
       "    </tr>\n",
       "  </tbody>\n",
       "</table>\n",
       "<p>6047430 rows × 7 columns</p>\n",
       "</div>"
      ],
      "text/plain": [
       "                                           user_id             song_id  \\\n",
       "0         b80344d063b5ccb3212f76538f3d9e43d87dca9e  SOAKIMP12A8C130995   \n",
       "1         b80344d063b5ccb3212f76538f3d9e43d87dca9e  SOAPDEY12A81C210A9   \n",
       "2         b80344d063b5ccb3212f76538f3d9e43d87dca9e  SOBBMDR12A8C13253B   \n",
       "6         b80344d063b5ccb3212f76538f3d9e43d87dca9e  SOBSUJE12A6D4F8CF5   \n",
       "8         b80344d063b5ccb3212f76538f3d9e43d87dca9e  SOBXALG12A8C13C108   \n",
       "...                                            ...                 ...   \n",
       "10266739  fd7fba879e036460b1c7cf18ae84ffb70d2166f4  SOSZJFV12AB01878CB   \n",
       "10266740  fd7fba879e036460b1c7cf18ae84ffb70d2166f4  SOUPCXQ12A81C222D9   \n",
       "10266741  fd7fba879e036460b1c7cf18ae84ffb70d2166f4  SOUVTSM12AC468F6A7   \n",
       "10266743  fd7fba879e036460b1c7cf18ae84ffb70d2166f4  SOWCKVR12A8C142411   \n",
       "10266744  fd7fba879e036460b1c7cf18ae84ffb70d2166f4  SOWCKVR12A8C142411   \n",
       "\n",
       "         play_count                                              title  \\\n",
       "0                 1                                           The Cove   \n",
       "1                 1                               Nothing from Nothing   \n",
       "2                 2                                    Entre Dos Aguas   \n",
       "6                 2                           12 segundos de oscuridad   \n",
       "8                 1                         Food Chain (Album Version)   \n",
       "...             ...                                                ...   \n",
       "10266739          9                             Teach Me How To Dougie   \n",
       "10266740          3  Cookie Jar [feat. The-Dream] (Explicit Album V...   \n",
       "10266741          2                                     Drop The World   \n",
       "10266743          1                                       Use Somebody   \n",
       "10266744          1                                       Use Somebody   \n",
       "\n",
       "                       artist_name                       release  year  \n",
       "0                     Jack Johnson            Thicker Than Water     0  \n",
       "1                    Billy Preston                    To Die For  1974  \n",
       "2                    Paco De Lucia           Flamenco Para Niños  1976  \n",
       "6                    Jorge Drexler               10 + Downloaded  2006  \n",
       "8                  Eric Hutchinson              Sounds Like This  2008  \n",
       "...                            ...                           ...   ...  \n",
       "10266739  California Swag District        Teach Me How To Dougie     0  \n",
       "10266740          Gym Class Heroes  Cookie Jar [Feat. The-Dream]     0  \n",
       "10266741        Lil Wayne / Eminem                Drop The World     0  \n",
       "10266743             Kings Of Leon                  Use Somebody  2008  \n",
       "10266744             Kings Of Leon                    Hitzone 49  2008  \n",
       "\n",
       "[6047430 rows x 7 columns]"
      ]
     },
     "execution_count": 24,
     "metadata": {},
     "output_type": "execute_result"
    }
   ],
   "source": [
    "binning_data2"
   ]
  },
  {
   "cell_type": "code",
   "execution_count": 25,
   "id": "9b9c8b22-7199-430f-a1bc-a06aa217a930",
   "metadata": {},
   "outputs": [],
   "source": [
    "binning_data2[['user_id', 'song_id', 'play_count']].to_csv(\"train-test-data.csv\")"
   ]
  },
  {
   "cell_type": "code",
   "execution_count": 4,
   "id": "1534411e-f614-4cdb-ba7b-1848a4723a99",
   "metadata": {},
   "outputs": [],
   "source": [
    "# binning_data2 = pd.read_csv(\"train-test-data.csv\")"
   ]
  },
  {
   "cell_type": "code",
   "execution_count": 5,
   "id": "d02faca6-6f66-4fb8-8735-c9fd1f5c5b17",
   "metadata": {},
   "outputs": [],
   "source": [
    "# Prepare data for Surprise\n",
    "from surprise import Dataset, Reader\n",
    "\n",
    "reader = Reader(rating_scale=(1, 5))\n",
    "data = Dataset.load_from_df(binning_data2[['user_id', 'song_id', 'play_count']], reader)"
   ]
  },
  {
   "cell_type": "code",
   "execution_count": 6,
   "id": "7d7ee935-8273-403b-9588-21a6b2a7d9d7",
   "metadata": {},
   "outputs": [],
   "source": [
    "trainset, testset = train_test_split(data, test_size=.25)"
   ]
  },
  {
   "cell_type": "code",
   "execution_count": 7,
   "id": "c743e408-5f65-46ae-96f7-0d072f94968e",
   "metadata": {},
   "outputs": [
    {
     "data": {
      "text/plain": [
       "1511858"
      ]
     },
     "execution_count": 7,
     "metadata": {},
     "output_type": "execute_result"
    }
   ],
   "source": [
    "len(testset)"
   ]
  },
  {
   "cell_type": "code",
   "execution_count": 8,
   "id": "68e95618-1f30-474b-961b-9bdc5456a10d",
   "metadata": {},
   "outputs": [],
   "source": [
    "# Convert testset (a list of tuples) to a DataFrame\n",
    "# The testset contains (user_id, item_id, actual_rating) tuples\n",
    "testset_df = pd.DataFrame(testset, columns=['user_id', 'item_id', 'actual_rating'])"
   ]
  },
  {
   "cell_type": "code",
   "execution_count": null,
   "id": "f04ee2fe-443b-4f85-9111-5d7d20583a8b",
   "metadata": {},
   "outputs": [],
   "source": [
    "# Save the testset DataFrame to a CSV file\n",
    "testset_df.to_csv('testset.csv', index=False)"
   ]
  },
  {
   "cell_type": "markdown",
   "id": "591d6ffc-1da7-49c0-8b5f-5fd3ad08cbb8",
   "metadata": {},
   "source": [
    "# Model Training"
   ]
  },
  {
   "cell_type": "markdown",
   "id": "78dc26bd-dc34-4ad7-a1a5-3bbd0056a6fd",
   "metadata": {},
   "source": [
    "### Model 1:"
   ]
  },
  {
   "cell_type": "code",
   "execution_count": 31,
   "id": "70e647c1-cc27-4eb9-a8f7-ca7250276b21",
   "metadata": {},
   "outputs": [
    {
     "name": "stdout",
     "output_type": "stream",
     "text": [
      "Total Training Time: 147.78 seconds\n"
     ]
    }
   ],
   "source": [
    "\n",
    "# Initialize the SVD algorithm\n",
    "algo = SVD(n_factors=100, n_epochs=50, lr_all=0.01, reg_all=0.1)\n",
    "# Record the start time\n",
    "start_time = time.time()\n",
    "# Train the model\n",
    "algo.fit(trainset)\n",
    "\n",
    "# Record the total completion time\n",
    "training_time = time.time() - start_time\n",
    "print(f\"Total Training Time: {training_time:.2f} seconds\")\n"
   ]
  },
  {
   "cell_type": "markdown",
   "id": "a9494462-5683-443c-8abb-69eecba3b9ed",
   "metadata": {},
   "source": [
    "### Model 2:"
   ]
  },
  {
   "cell_type": "code",
   "execution_count": 34,
   "id": "79c9c412-c5d2-450b-95e3-b4436f588022",
   "metadata": {},
   "outputs": [
    {
     "name": "stdout",
     "output_type": "stream",
     "text": [
      "Total Training Time: 367.42 seconds\n"
     ]
    }
   ],
   "source": [
    "\n",
    "# Initialize the SVD algorithm\n",
    "algo2 = SVD(n_factors=150, n_epochs=100, lr_all=0.005, reg_all=0.1)\n",
    "# Record the start time\n",
    "start_time = time.time()\n",
    "# Train the model\n",
    "algo2.fit(trainset)\n",
    "\n",
    "# Record the total completion time\n",
    "training_time2 = time.time() - start_time\n",
    "print(f\"Total Training Time: {training_time2:.2f} seconds\")"
   ]
  },
  {
   "cell_type": "markdown",
   "id": "8a0b4bd5-d1d8-43e5-b94e-6215d1d2b771",
   "metadata": {},
   "source": [
    "### Model 3:"
   ]
  },
  {
   "cell_type": "code",
   "execution_count": 11,
   "id": "11e95799-d331-4f87-97dd-36391db17d07",
   "metadata": {},
   "outputs": [
    {
     "name": "stdout",
     "output_type": "stream",
     "text": [
      "Total Training Time: 159.46 seconds\n"
     ]
    }
   ],
   "source": [
    "\n",
    "# Initialize the SVD algorithm\n",
    "algo3 = SVD(n_factors=100, n_epochs=50, lr_all=0.01, reg_all=0.5)\n",
    "# Record the start time\n",
    "start_time = time.time()\n",
    "# Train the model\n",
    "algo3.fit(trainset)\n",
    "\n",
    "# Record the total completion time\n",
    "training_time3 = time.time() - start_time\n",
    "print(f\"Total Training Time: {training_time3:.2f} seconds\")\n"
   ]
  },
  {
   "cell_type": "markdown",
   "id": "a55c1da7-3e69-4e21-9a43-592d2103e945",
   "metadata": {},
   "source": [
    "### Test the Model and Report Top 1 and Top 5 Accuracy\n",
    "\n"
   ]
  },
  {
   "cell_type": "code",
   "execution_count": 46,
   "id": "3ce2557e-7a29-4bfc-8d07-e5346ccf01b4",
   "metadata": {},
   "outputs": [],
   "source": [
    "def save(predictions,idx):\n",
    "        \n",
    "    # Convert predictions to DataFrame\n",
    "    predictions_df = pd.DataFrame(predictions, columns=['user_id', 'item_id', 'true_r', 'est', 'details'])\n",
    "    \n",
    "    # Save to CSV (excluding the 'details' column)\n",
    "    predictions_df[['user_id', 'item_id', 'true_r', 'est']].to_csv(f'predictions_{idx}.csv', index=False)\n"
   ]
  },
  {
   "cell_type": "code",
   "execution_count": 36,
   "id": "77a35e2d-862f-4556-9a24-623e05e087b0",
   "metadata": {},
   "outputs": [],
   "source": [
    "predictions  = algo.test(testset)\n",
    "# print(f\"The rmse is {accuracy.rmse(test_predictions, verbose=True)}\")"
   ]
  },
  {
   "cell_type": "code",
   "execution_count": 37,
   "id": "dbe71551-128d-4ded-8cbb-8771effca415",
   "metadata": {},
   "outputs": [],
   "source": [
    "predictions2  = algo2.test(testset)"
   ]
  },
  {
   "cell_type": "code",
   "execution_count": 12,
   "id": "a9b8c808-f12a-4647-bd58-49220953adb1",
   "metadata": {},
   "outputs": [],
   "source": [
    "predictions3  = algo3.test(testset)"
   ]
  },
  {
   "cell_type": "code",
   "execution_count": 14,
   "id": "0bd3fc21-b657-48ef-b5d7-7c6e92a7c78a",
   "metadata": {},
   "outputs": [],
   "source": [
    "def calculate_top_hits(predictions):\n",
    "    \"\"\"\n",
    "    Optimized function to calculate Top-1 and Top-5 hits from prediction results.\n",
    "\n",
    "    :param predictions: List of prediction tuples from the Surprise model (user_id, item_id, true_r, est, details).\n",
    "    :return: DataFrame with columns: user_id, top_1_hit, top_5_hit.\n",
    "    \"\"\"\n",
    "    import pandas as pd\n",
    "\n",
    "    # Convert predictions to a DataFrame\n",
    "    pred_df = pd.DataFrame(predictions, columns=['user_id', 'item_id', 'true_r', 'est', 'details'])\n",
    "\n",
    "    # Sort by user_id and estimated rating (descending)\n",
    "    pred_df_sorted = pred_df.sort_values(by=['user_id', 'est'], ascending=[True, False])\n",
    "\n",
    "    # Group by user_id and collect item_ids into lists\n",
    "    grouped = pred_df_sorted.groupby('user_id')['item_id'].apply(list).reset_index()\n",
    "\n",
    "    # Extract top 1 and top 5 items\n",
    "    grouped['top_1_items'] = grouped['item_id'].apply(lambda x: x[:1])\n",
    "    grouped['top_5_items'] = grouped['item_id'].apply(lambda x: x[:5])\n",
    "\n",
    "    # Prepare DataFrame with true items\n",
    "    true_items = pred_df[['user_id', 'item_id']].drop_duplicates()\n",
    "\n",
    "    # Merge to align true items with their top recommendations\n",
    "    merged_df = pd.merge(true_items, grouped[['user_id', 'top_1_items', 'top_5_items']], on='user_id')\n",
    "\n",
    "    # Calculate hits using vectorized operations\n",
    "    merged_df['top_1_hit'] = merged_df.apply(lambda row: int(row['item_id'] in row['top_1_items']), axis=1)\n",
    "    merged_df['top_5_hit'] = merged_df.apply(lambda row: int(row['item_id'] in row['top_5_items']), axis=1)\n",
    "\n",
    "    # Select relevant columns\n",
    "    results_df = merged_df[['user_id', 'top_1_hit', 'top_5_hit']]\n",
    "\n",
    "    return results_df\n"
   ]
  },
  {
   "cell_type": "code",
   "execution_count": 18,
   "id": "713eee7a-0ccd-4afa-a381-c5dfa1379085",
   "metadata": {},
   "outputs": [],
   "source": [
    "def graph_result(results_df):\n",
    "    # Assuming your results DataFrame is already created\n",
    "    # Calculate the average Top-1 and Top-5 hit rates\n",
    "    top_1_hit_rate = results_df['top_1_hit'].mean()\n",
    "    top_5_hit_rate = results_df['top_5_hit'].mean()\n",
    "    \n",
    "    # Create a DataFrame to store hit rates for plotting\n",
    "    hit_rates_df = pd.DataFrame({\n",
    "        'Hit Rate Type': ['Top-1 Hit Rate', 'Top-5 Hit Rate'],\n",
    "        'Hit Rate': [top_1_hit_rate, top_5_hit_rate]\n",
    "    })\n",
    "    \n",
    "    # Plotting the hit rates as a bar chart\n",
    "    plt.figure(figsize=(8, 6))\n",
    "    bars = plt.bar(hit_rates_df['Hit Rate Type'], hit_rates_df['Hit Rate'], color=['skyblue', 'salmon'])\n",
    "    \n",
    "    # Add labels on top of each bar\n",
    "    for bar in bars:\n",
    "        yval = bar.get_height()\n",
    "        plt.text(bar.get_x() + bar.get_width()/2, yval + 0.01, f'{yval:.2f}', ha='center', va='bottom')\n",
    "    \n",
    "    # Add titles and labels\n",
    "    plt.title('Top-1 and Top-5 Hit Rates')\n",
    "    plt.ylabel('Hit Rate')\n",
    "    plt.ylim(0, 1)  # Hit rate ranges from 0 to 1\n",
    "    plt.show()\n"
   ]
  },
  {
   "cell_type": "code",
   "execution_count": null,
   "id": "1137461b-86af-4ba0-a14a-fd5368775f64",
   "metadata": {},
   "outputs": [],
   "source": [
    "result = calculate_top_hits(predictions)"
   ]
  },
  {
   "cell_type": "code",
   "execution_count": null,
   "id": "75b5495b-6694-4b91-ab0d-9b3ce0f6c1ec",
   "metadata": {},
   "outputs": [],
   "source": [
    "result2 = calculate_top_hits(predictions2)"
   ]
  },
  {
   "cell_type": "code",
   "execution_count": 15,
   "id": "adb91bad-a63b-42fa-9d5f-359a70f26770",
   "metadata": {},
   "outputs": [],
   "source": [
    "result3 = calculate_top_hits(predictions3)"
   ]
  },
  {
   "cell_type": "markdown",
   "id": "4ef7d77a-aca7-4c82-93dd-9f51a4f1e44f",
   "metadata": {},
   "source": [
    "## Result 1: "
   ]
  },
  {
   "cell_type": "code",
   "execution_count": 71,
   "id": "2eaaf4b6-99d2-4548-8bb2-2d87ed04b7f9",
   "metadata": {},
   "outputs": [
    {
     "name": "stdout",
     "output_type": "stream",
     "text": [
      "0.08924316966275933 0.39896604046147194\n"
     ]
    }
   ],
   "source": [
    "\n",
    "top_1_hit_rate = result['top_1_hit'].mean()\n",
    "top_5_hit_rate = result['top_5_hit'].mean()\n",
    "print(top_1_hit_rate, top_5_hit_rate)"
   ]
  },
  {
   "cell_type": "markdown",
   "id": "20cdc719-6abc-44ca-8f33-c30db6abed14",
   "metadata": {},
   "source": [
    "## Result 2:"
   ]
  },
  {
   "cell_type": "code",
   "execution_count": 73,
   "id": "b4e94abb-51c1-4b8b-9fa9-0b12a927a536",
   "metadata": {},
   "outputs": [
    {
     "name": "stdout",
     "output_type": "stream",
     "text": [
      "0.0892180350270991 0.3989461973280559\n"
     ]
    }
   ],
   "source": [
    "\n",
    "top_1_hit_rate = result2['top_1_hit'].mean()\n",
    "top_5_hit_rate = result2['top_5_hit'].mean()\n",
    "print(top_1_hit_rate, top_5_hit_rate)"
   ]
  },
  {
   "cell_type": "markdown",
   "id": "82a99fa4-545c-47e4-b8f4-d92920bcfa62",
   "metadata": {},
   "source": [
    "## Result 3:"
   ]
  },
  {
   "cell_type": "code",
   "execution_count": 16,
   "id": "82fd2aca-05b9-4cea-8204-9fc6812df526",
   "metadata": {},
   "outputs": [
    {
     "name": "stdout",
     "output_type": "stream",
     "text": [
      "0.08948849972745637 0.3997707427081218\n"
     ]
    }
   ],
   "source": [
    "\n",
    "top_1_hit_rate = result3['top_1_hit'].mean()\n",
    "top_5_hit_rate = result3['top_5_hit'].mean()\n",
    "print(top_1_hit_rate, top_5_hit_rate)"
   ]
  },
  {
   "cell_type": "markdown",
   "id": "e475e2fc-0394-4fc3-bbb4-32fd5ef06533",
   "metadata": {},
   "source": [
    "## Result Graphs"
   ]
  },
  {
   "cell_type": "code",
   "execution_count": 24,
   "id": "bd289da3-8915-4e8c-8951-3b11e7e6cf78",
   "metadata": {},
   "outputs": [],
   "source": [
    "import pandas as pd\n",
    "\n",
    "# Define the updated data\n",
    "data = {\n",
    "    'Setting': [\n",
    "        'n_factor=100, epoch=50, lr=0.01, reg=0.1',\n",
    "        'n_factor=150, epoch=100, lr=0.005, reg=0.1',\n",
    "        'n_factor=100, epoch=50, lr=0.01, reg=0.5'\n",
    "    ],\n",
    "    'Top_1_Hit_Rate': [0.08924316966275933, 0.0892180350270991, 0.08948849972745637],\n",
    "    'Top_5_Hit_Rate': [0.39896604046147194, 0.3989461973280559, 0.3997707427081218],\n",
    "    'Training_Time': [147.78, 367.42, 160.46]\n",
    "}\n",
    "\n",
    "# Convert to DataFrame\n",
    "df = pd.DataFrame(data)\n"
   ]
  },
  {
   "cell_type": "code",
   "execution_count": 23,
   "id": "7f42adce-eb72-4692-a88e-7dee58dd9338",
   "metadata": {},
   "outputs": [
    {
     "data": {
      "image/png": "[encoded data removed]",
      "text/plain": [
       "<Figure size 1800x600 with 3 Axes>"
      ]
     },
     "metadata": {},
     "output_type": "display_data"
    }
   ],
   "source": [
    "\n",
    "# Set up the figure and subplots\n",
    "fig, ax = plt.subplots(1, 3, figsize=(18, 6))\n",
    "\n",
    "# Bar chart for Top-1 Hit Rate\n",
    "ax[0].bar(df['Setting'], df['Top_1_Hit_Rate'], color='skyblue')\n",
    "ax[0].set_title('Top-1 Hit Rate Comparison')\n",
    "ax[0].set_xlabel('Setting 1')\n",
    "ax[0].set_ylabel('Top-1 Hit Rate')\n",
    "ax[0].tick_params(axis='x', rotation=45)\n",
    "ax[0].set_ylim(0.0892, 0.0895)  # Set the y-axis range to focus on differences\n",
    "\n",
    "# Bar chart for Top-5 Hit Rate\n",
    "ax[1].bar(df['Setting'], df['Top_5_Hit_Rate'], color='salmon')\n",
    "ax[1].set_title('Top-5 Hit Rate Comparison')\n",
    "ax[1].set_xlabel('Setting 2')\n",
    "ax[1].set_ylabel('Top-5 Hit Rate')\n",
    "ax[1].tick_params(axis='x', rotation=45)\n",
    "ax[1].set_ylim(0.3989, 0.400)  # Set the y-axis range to focus on differences\n",
    "\n",
    "# Bar chart for Training Time\n",
    "ax[2].bar(df['Setting'], df['Training_Time'], color='lightgreen')\n",
    "ax[2].set_title('Training Time Comparison')\n",
    "ax[2].set_xlabel('Setting 3')\n",
    "ax[2].set_ylabel('Training Time (seconds)')\n",
    "ax[2].tick_params(axis='x', rotation=45)\n",
    "ax[2].set_ylim(140, 370)  # Set the y-axis range to better show differences\n",
    "\n",
    "# Adjust layout for better display\n",
    "plt.tight_layout()\n",
    "plt.show()"
   ]
  },
  {
   "cell_type": "markdown",
   "id": "20e80ef5-a8f3-45ed-ab1e-81926c8666de",
   "metadata": {},
   "source": [
    "# Result Report"
   ]
  },
  {
   "attachments": {
    "67953ada-8ca7-409f-be99-03e77b89e421.png": {
     "image/png": "[encoded data removed]"
    },
    "97b67da3-f7b6-47e9-8eb5-200b8ef7790f.png": {
     "image/png": "[encoded data removed]"
    }
   },
   "cell_type": "markdown",
   "id": "e98274c8-9330-4bb9-ba1e-fc21e3c9f1a8",
   "metadata": {},
   "source": [
    "### Dataset Description\n",
    "I utilized the first 10,000,000 pieces of data from the raw file(train_triplets.txt) as a raw dataset, which is around 1/4 size of the origional dataset. Then, I keep only users who listened to over 20 songs, and only keep songs with more than 200 listener(these decisions are made along the way when I was observing the data, detailed thought process shown above in 'Data Preprocessing' section). \n",
    "\n",
    "After the filter, the dataset contains 6,047,430 data. The filtered data has a minimum listening count of 1 and a maximum of 2213(this is max number of times 1 person listen to 1 song), and based on the percentile data, I noticed that 90% of data is within range of 1-6. Therefore, in order to convert the listening count to rating, I binned them into 10 bins with ranges of [0, 1, 2, 3, 4, 5, 6, 7, 8, 9, 2214], this makes sure all count that are > 0, <= 1 becomes rating 1, all counts that are >1, <=2 becomes rating 2....all counts >9, <= 2214 becomes rating 10. As shown in the graph below, this conversion technique shows a reasonable distribution of rating.\n",
    "\n",
    "                                                            Listening Count Stats\n",
    "                                        __________________________________________________________\n",
    "                                                            Maximum Listening Count: 2213\n",
    "                                                            Minimum Listening Count: 1\n",
    "                                                            Mean Listening Count: 2.93\n",
    "                                                            25th Percentile: 1.0\n",
    "                                                            50th Percentile: 1.0\n",
    "                                                            75th Percentile: 3.0\n",
    "                                                            90th Percentile: 6.0\n",
    "\n",
    "\n",
    "                                                    Bar Graph of Rating Distribution After Binning\n",
    "![image.png](attachment:97b67da3-f7b6-47e9-8eb5-200b8ef7790f.png)\n",
    "\n",
    "### Train Setting and Result Analysis\n",
    "I split the filtered data set to a 0.25 train-test split, which means the test set contains in total of 1,511,857 pieces of data. I stored all test data into testset.csv. Then, I ran 3 hyperparameter setting to test the moddel's effectiveness and try to tune it to its best possible hit rate.\n",
    "\n",
    "For the first model, I use the initial hyperparameter setting is shown below. \n",
    "\n",
    "    n_factors = 100\n",
    "    n_epochs = 50\n",
    "    lr_all = 0.01\n",
    "    reg_all = 0.1\n",
    "\n",
    "The first setting's result has a top 1 hit rate of 0.08924316966275933 and a top 5 hit of 0.39896604046147194. To interpret both hit rate: A top 1 hit rate of 0.08924316966275933 means that about 9% of the time, the system correctly predicted the exact song the user listens to the most in the ranked list of all songs he listens to. A top 5 hit rate of 0.39896604046147194 means that about 40% of the time, the system correctly predicted the song the user listens to as one of the top 5 song he listens to the most.\n",
    "\n",
    "I believe both scores are not high enough for the system to be put into real world use. This result is within my expectation, because due to the computational resource limitation, I'm training on 1/4 size of the origional full dataset, which means the model might not have enough information to learn to make its best possible prediction. Another thing to note is that the top 1 hit rate is significantly lower than top 5 hit rate. This is also reasonable, since it is inherently more challenging for the model to predict the exact song a user will like compared to predicting top five songs and having 1 matching song.\n",
    "\n",
    "After analyzing the first result, I aimed to improve the model's performance. I identified several potential reasons for the low hit rate:\n",
    "\n",
    "n_factor (Latent Factors):\n",
    "The small number of latent factors (n_factor) may limit the model's ability to learn complex relationships between users and items. Increasing the number of latent factors would allow the model to learn more precise relation ship betweeen users and musics in a higher-dimensional feature space.\n",
    "\n",
    "Number of Epochs:\n",
    "The low number of epochs might have caused the model to stop training before converging to the optimal solution. By increasing the number of epochs, the model will have more time to adjust the latent factors and potentially achieve better performance.\n",
    "\n",
    "Learning Rate:\n",
    "The learning rate may have been too high, causing the model to make large updates to the parameters and miss the global optimum during training. A smaller learning rate allows the model to make more gradual updates, which will improve the chances of finding the optimal set of parameters.\n",
    "\n",
    "Therefore, I increased the n factor and num epochs, and decrease the learning rate, as shown below:\n",
    "\n",
    "    n_factors = 150\n",
    "    n_epochs = 100\n",
    "    lr_all = 0.005\n",
    "    reg_all = 0.1\n",
    "    \n",
    "The second model's result has a top 1 hit of 0.0892180350270991, top 5 hit of 0.3989461973280559, which are both worse than the first setting.  What's worth noticing is that the training time increases significanly by more than 50% compare to the first setting. This is expected, because with more number of epochs and more complex setting, more time is needed for the model to finish computing all epochs. The slight decrease in result shows that the model is potentially overfitting. Therefore, for the third model, I increased the regulation factor to reduce overfitting, rest of the setting is identical to model 1.\n",
    "\n",
    "    n_factors = 100\n",
    "    n_epochs = 50\n",
    "    lr_all = 0.01\n",
    "    reg_all = 0.5\n",
    "\n",
    "The third model's scores are top 1 hit: 0.08948849972745637, and top 5 hit: 0.3997707427081218, which show a improvement over the first model. This confirms my hypothesis of the model overfitting during the first and second hyperparameter setting.\n",
    "\n",
    "                                                    Result Table\n",
    "                                                         |    top 1 hit rate  |    top 5 hit rate   |   Training Time\n",
    "    _________________________________________________________________________________________________________________________\n",
    "    n_factor = 100, epoch = 50, lr = 0.01, reg = 0.1     |0.08924316966275933 | 0.39896604046147194 |  147.78\n",
    "    _________________________________________________________________________________________________________________________\n",
    "    n_factor = 150, epoch = 100, lr = 0.005, reg = 0.1   |0.0892180350270991  | 0.3989461973280559 |  367.42\n",
    "    _________________________________________________________________________________________________________________________\n",
    "    n_factor = 100, epoch = 50, lr = 0.01, reg = 0.5     |0.08948849972745637 | 0.3997707427081218 |  160.46\n",
    "\n",
    "                                                    Result Graph\n",
    "![image.png](attachment:67953ada-8ca7-409f-be99-03e77b89e421.png)\n",
    "\n",
    "Lastly, What's worth mentioning is that, even though changes in hyperparameters such as n_factor, number of epochs, and learning rate led to some observable differences in the results, the improvements were too small to make significant impact on the model's overall performance. This suggests that either the current dataset size is too small or the model architecture itself may not be sufficient to capture the full complexity of relationship between users and songs. It is also possible that further tuning or other advanced techniques (e.g., cross-validation, different feature engineering) are needed to make meaningful improvements. \n"
   ]
  },
  {
   "cell_type": "markdown",
   "id": "b1aff7b3-cfee-40b4-85f9-033227dbf5f0",
   "metadata": {},
   "source": [
    "### Reference\n",
    "\n",
    "I referenced this github repo for my implementation: https://github.com/TejalBalyan/Music_Recommender "
   ]
  },
  {
   "cell_type": "code",
   "execution_count": null,
   "id": "2e0b81d2-eb69-47e9-843f-f1c7e45fe86a",
   "metadata": {},
   "outputs": [],
   "source": []
  }
 ],
 "metadata": {
  "kernelspec": {
   "display_name": "Python (env)",
   "language": "python",
   "name": "env"
  },
  "language_info": {
   "codemirror_mode": {
    "name": "ipython",
    "version": 3
   },
   "file_extension": ".py",
   "mimetype": "text/x-python",
   "name": "python",
   "nbconvert_exporter": "python",
   "pygments_lexer": "ipython3",
   "version": "3.10.12"
  }
 },
 "nbformat": 4,
 "nbformat_minor": 5
}
